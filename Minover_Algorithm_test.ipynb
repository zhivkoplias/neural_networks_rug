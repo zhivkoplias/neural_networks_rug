{
 "cells": [
  {
   "cell_type": "code",
   "execution_count": 158,
   "metadata": {},
   "outputs": [
    {
     "name": "stdout",
     "output_type": "stream",
     "text": [
      "gen error\n",
      "0.3657782386655873\n"
     ]
    }
   ],
   "source": [
    "import numpy as np\n",
    "import math\n",
    "from operator import itemgetter\n",
    "import random\n",
    "\n",
    "#params\n",
    "nmax = 50 #num of epochs\n",
    "N = 20 #num of features\n",
    "alpha = 0.3 #aplha\n",
    "P = int(alpha * N) #amount of samples\n",
    "w = np.zeros(N) #learned weights, students weights\n",
    "\n",
    "#prepare all vectors\n",
    "mu, sigma = 0, 1\n",
    "xi = np.random.normal(mu, sigma, [P, N]) #initial values\n",
    "w_t = np.random.normal(mu, sigma, N) #initial weights, teacher weights, have to be random not just '1'\n",
    "w_t = w_t * np.sqrt(N) / np.linalg.norm(w_t,2)\n",
    "S = np.sign(np.dot(xi, w_t)) #initial labels - they are the products of weights and xi vector\n",
    "\n",
    "converg = 0 #check convergence\n",
    "initial_lowest_stab = 0 #high value\n",
    "sum_errors = [] #gen error calculation\n",
    "\n",
    "#actual algorithm starts here\n",
    "for i in range(nmax):\n",
    "    \n",
    "    data = []\n",
    "    \n",
    "    #calculate κν(t)\n",
    "    for mu_t in range(P):\n",
    "        current_example = xi[mu_t]\n",
    "        e_mu_t = np.dot(np.dot(current_example, w), S[mu_t])\n",
    "#         print(e_mu_t)\n",
    "#         print('stop')\n",
    "        data.append([e_mu_t, xi[mu_t], S[mu_t]])\n",
    "        \n",
    "    #determine the minimal stability\n",
    "    data = sorted(data, key=itemgetter(0), reverse=False)\n",
    "    lowest_stab = data[0][0]\n",
    "    #print('new lowest stability:')\n",
    "    #print(lowest_new)\n",
    "    \n",
    "    #determine the sample with minimal stability and its label\n",
    "    min_data = data[0][1]\n",
    "    min_label = data[0][2]\n",
    "    \n",
    "    #hebbian update\n",
    "    w = w+(min_data*min_label)/N\n",
    "    \n",
    "    #stop when training is over a number of P single training steps\n",
    "   # print('initial lowest stab')\n",
    "   # print(initial_lowest_stab)\n",
    "   # print('lowest_stab')\n",
    "   # print(lowest_stab)\n",
    "    \n",
    "    if lowest_stab >= initial_lowest_stab:\n",
    "        initial_lowest_stab = lowest_stab\n",
    "        converge = 0\n",
    "    else: #if the distance with the new example that the algorithm found is larger the one that we already have\n",
    "        converge = converge+1 #then increase counter by 1\n",
    "        if converge >= P: #once it reaches threshold (larger than P as it is stated in the assignment)\n",
    "            break #stop the algorithm\n",
    "            \n",
    "    #calculate the error\n",
    "#     print('initial')\n",
    "#     print(w_t)\n",
    "#     print('learned')\n",
    "#     print(w)\n",
    "    error = 1/np.pi * math.acos((np.dot(w, w_t))/(np.linalg.norm(w,2)*np.linalg.norm(w_t,2)))\n",
    "    #print(error)\n",
    "    sum_errors.append(error)\n",
    "    \n",
    "#calculate the generalization error\n",
    "print('gen error')\n",
    "print(sum(sum_errors)/len(sum_errors))"
   ]
  },
  {
   "cell_type": "code",
   "execution_count": 161,
   "metadata": {},
   "outputs": [],
   "source": [
    "#Function to train a perceptron with the minover algorithm\n",
    "# def train_minover(dataset, labels, teacher, tmax):\n",
    "#     ndims = size(dataset[1]);\n",
    "\n",
    "#     #Initialize the student\n",
    "#     student = zeros(ndims, 1);\n",
    "\n",
    "#     #Minover algorithm until convergence or max time\n",
    "#     for t in range(t_max):\n",
    "    \n",
    "#     #Calculate stabilities of all points\n",
    "#         stabilities = dataset * student .* labels;\n",
    "\n",
    "#         #What point is the least stable?\n",
    "#         weakpoint = min(stabilities[-1]);\n",
    "\n",
    "#         #Update the student perceptron\n",
    "#         student = student + dataset(weakpoint,:)' .* labels(weakpoint) ./ ndims;\n",
    "\n",
    "# % Calculate generalization error\n",
    "# generror = acos(dot(student, teacher) / norm(student) / norm(teacher)) / pi;\n",
    "\n",
    "# end"
   ]
  },
  {
   "cell_type": "code",
   "execution_count": 160,
   "metadata": {},
   "outputs": [],
   "source": [
    "# import numpy as np\n",
    "# from numpy import array\n",
    "# A = array([[1,2],[3,4]])\n",
    "# B = array([[5,6],[7,8]])\n",
    "# print(\"-------- MATRIX A --------\\n\")\n",
    "# print(A)\n",
    "# print(\"\\n\")\n",
    "# print(\"-------- MATRIX B --------\\n\")\n",
    "# print(B)\n",
    "# print(\"\\n\")\n",
    "# print(\"-------- Dot Product Result ----------\\n\")\n",
    "# C = np.dot(A,B)\n",
    "# print(C)"
   ]
  },
  {
   "cell_type": "code",
   "execution_count": 159,
   "metadata": {},
   "outputs": [],
   "source": [
    "# mu, sigma = 0, 0.1 # mean and standard deviation\n",
    "# s = np.random.normal(mu, sigma, [10])\n",
    "# print(s)"
   ]
  },
  {
   "cell_type": "code",
   "execution_count": null,
   "metadata": {},
   "outputs": [],
   "source": []
  }
 ],
 "metadata": {
  "kernelspec": {
   "display_name": "Python 3",
   "language": "python",
   "name": "python3"
  },
  "language_info": {
   "codemirror_mode": {
    "name": "ipython",
    "version": 3
   },
   "file_extension": ".py",
   "mimetype": "text/x-python",
   "name": "python",
   "nbconvert_exporter": "python",
   "pygments_lexer": "ipython3",
   "version": "3.7.4"
  }
 },
 "nbformat": 4,
 "nbformat_minor": 2
}
